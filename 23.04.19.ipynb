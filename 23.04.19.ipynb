{
 "cells": [
  {
   "cell_type": "code",
   "execution_count": null,
   "id": "8c15e92a",
   "metadata": {},
   "outputs": [],
   "source": [
    "import pandas as pd\n",
    "import numpy as np\n",
    "\n",
    "import plotly.express as px    \n",
    "import plotly.graph_objects as go\n",
    "import statsmodels.api as sm"
   ]
  },
  {
   "cell_type": "markdown",
   "id": "b533acc9",
   "metadata": {},
   "source": [
    "### Intro to Python and Jupyter"
   ]
  },
  {
   "cell_type": "code",
   "execution_count": null,
   "id": "ffb42cea",
   "metadata": {},
   "outputs": [],
   "source": []
  },
  {
   "cell_type": "code",
   "execution_count": null,
   "id": "bdb3d18e",
   "metadata": {},
   "outputs": [],
   "source": []
  },
  {
   "cell_type": "code",
   "execution_count": null,
   "id": "af1a07f8",
   "metadata": {},
   "outputs": [],
   "source": []
  },
  {
   "cell_type": "code",
   "execution_count": null,
   "id": "172581cc",
   "metadata": {},
   "outputs": [],
   "source": []
  },
  {
   "cell_type": "code",
   "execution_count": null,
   "id": "93d229c5",
   "metadata": {},
   "outputs": [],
   "source": []
  },
  {
   "cell_type": "markdown",
   "id": "c741e7af",
   "metadata": {},
   "source": [
    "### What are we trying to do?"
   ]
  },
  {
   "cell_type": "code",
   "execution_count": null,
   "id": "cf5b16dd",
   "metadata": {},
   "outputs": [],
   "source": [
    "n = 50\n",
    "np.random.seed(0)\n",
    "x = round(pd.Series(np.random.uniform(0,10,n)),1)\n",
    "y = round(3*x+2+np.random.normal(0,2.5,n),1)"
   ]
  },
  {
   "cell_type": "code",
   "execution_count": null,
   "id": "b9a3ccbb",
   "metadata": {},
   "outputs": [],
   "source": [
    "plot = px.scatter(x=x, y=y)\n",
    "plot.show()"
   ]
  },
  {
   "cell_type": "code",
   "execution_count": null,
   "id": "e86a7e30",
   "metadata": {},
   "outputs": [],
   "source": [
    "x_line = pd.Series([0,10])\n",
    "y_line1 = 3*x_line+2\n",
    "y_line2 = 3.5*x_line+0\n",
    "fig1 = px.scatter(x=x, y=y)\n",
    "fig2 = px.line(x=x_line, y=y_line1, color_discrete_sequence=['red'])\n",
    "fig3 = px.line(x=x_line, y=y_line2,  color_discrete_sequence=['green'])\n",
    "plot = go.Figure(data=fig1.data + fig2.data+ fig3.data, layout = fig1.layout)\n",
    "plot.show()"
   ]
  },
  {
   "cell_type": "code",
   "execution_count": null,
   "id": "1da3794b",
   "metadata": {},
   "outputs": [],
   "source": []
  },
  {
   "cell_type": "markdown",
   "id": "e79c0caa",
   "metadata": {},
   "source": [
    "#### Another Graph"
   ]
  },
  {
   "cell_type": "code",
   "execution_count": null,
   "id": "76bcfe14",
   "metadata": {},
   "outputs": [],
   "source": [
    "#Don't look at this block for now\n",
    "n = 50\n",
    "np.random.seed(0)\n",
    "x = round(pd.Series(np.random.uniform(0,8,n)),1)\n",
    "y = round(x**2+-6*x + 2+np.random.normal(0,2.5,n),1)"
   ]
  },
  {
   "cell_type": "code",
   "execution_count": null,
   "id": "d04f3433",
   "metadata": {},
   "outputs": [],
   "source": [
    "plot = px.scatter(x=x, y=y)\n",
    "plot.show()"
   ]
  },
  {
   "cell_type": "code",
   "execution_count": null,
   "id": "59803925",
   "metadata": {},
   "outputs": [],
   "source": [
    "\n"
   ]
  },
  {
   "cell_type": "markdown",
   "id": "8c95aee0",
   "metadata": {},
   "source": [
    "# Now to Regression"
   ]
  },
  {
   "cell_type": "code",
   "execution_count": null,
   "id": "a3b5cc87",
   "metadata": {},
   "outputs": [],
   "source": [
    "x = [2,2,2,3,1,1,2,3,4,1,4]\n",
    "y = [108, 102, 102, 98, 84, 95, 96, 99, 121, 93, 102]\n",
    "plot = px.scatter(x=x, y=y)\n",
    "plot.show()"
   ]
  },
  {
   "cell_type": "code",
   "execution_count": null,
   "id": "efa83b4a",
   "metadata": {},
   "outputs": [],
   "source": [
    "list(zip(x,y))"
   ]
  },
  {
   "cell_type": "code",
   "execution_count": null,
   "id": "65958912",
   "metadata": {},
   "outputs": [],
   "source": []
  },
  {
   "cell_type": "code",
   "execution_count": null,
   "id": "ff017bcc",
   "metadata": {},
   "outputs": [],
   "source": []
  },
  {
   "cell_type": "code",
   "execution_count": null,
   "id": "c7cac651",
   "metadata": {},
   "outputs": [],
   "source": []
  },
  {
   "cell_type": "code",
   "execution_count": null,
   "id": "81eea893",
   "metadata": {},
   "outputs": [],
   "source": [
    "x1 = sm.add_constant(x)\n",
    "x1"
   ]
  },
  {
   "cell_type": "code",
   "execution_count": null,
   "id": "e60f2897",
   "metadata": {},
   "outputs": [],
   "source": [
    "lm = sm.OLS(y,x1).fit() # fitting the model"
   ]
  },
  {
   "cell_type": "code",
   "execution_count": null,
   "id": "7904e905",
   "metadata": {},
   "outputs": [],
   "source": [
    "lm.summary()"
   ]
  },
  {
   "cell_type": "markdown",
   "id": "a5ee75d7",
   "metadata": {},
   "source": [
    "We have our observed points like (2,108) an d so one.  How close is our model?"
   ]
  },
  {
   "cell_type": "code",
   "execution_count": null,
   "id": "7142eb5d",
   "metadata": {},
   "outputs": [],
   "source": [
    "# lm.predict( a list of x values in here  )"
   ]
  },
  {
   "cell_type": "code",
   "execution_count": null,
   "id": "d642ca49",
   "metadata": {},
   "outputs": [],
   "source": []
  },
  {
   "cell_type": "code",
   "execution_count": null,
   "id": "b3b5141a",
   "metadata": {},
   "outputs": [],
   "source": [
    "lm.predict([2])"
   ]
  },
  {
   "cell_type": "code",
   "execution_count": null,
   "id": "c09f3b1c",
   "metadata": {},
   "outputs": [],
   "source": [
    "#  Recal we had (2,108) and (2,96) and many other points\n",
    "lm.predict([(1,2)])"
   ]
  },
  {
   "cell_type": "code",
   "execution_count": null,
   "id": "7cbc63ba",
   "metadata": {},
   "outputs": [],
   "source": []
  },
  {
   "cell_type": "code",
   "execution_count": null,
   "id": "e6c523a7",
   "metadata": {},
   "outputs": [],
   "source": []
  },
  {
   "cell_type": "code",
   "execution_count": null,
   "id": "b03459d6",
   "metadata": {},
   "outputs": [],
   "source": [
    "y_hat = lm.predict(x1)\n",
    "list(zip(y_hat,y))"
   ]
  },
  {
   "cell_type": "code",
   "execution_count": null,
   "id": "73cc7a3a",
   "metadata": {},
   "outputs": [],
   "source": []
  },
  {
   "cell_type": "code",
   "execution_count": null,
   "id": "d0fb4f2b",
   "metadata": {},
   "outputs": [],
   "source": []
  },
  {
   "cell_type": "code",
   "execution_count": null,
   "id": "5e65ddab",
   "metadata": {},
   "outputs": [],
   "source": [
    "fig1 = px.line(x=x, y=y_hat)\n",
    "fig1.update_traces(line=dict(color = 'rgba(50,50,50,1.2)'))\n",
    "\n",
    "fig2 = px.scatter(x=x, y=y)\n",
    "\n",
    "fig3 = go.Figure(data=fig1.data + fig2.data)\n",
    "fig3.show()"
   ]
  },
  {
   "cell_type": "markdown",
   "id": "eda97b00",
   "metadata": {},
   "source": [
    "### Another Example Boston Housing Data from 1970"
   ]
  },
  {
   "cell_type": "code",
   "execution_count": null,
   "id": "20aa7c51",
   "metadata": {},
   "outputs": [],
   "source": [
    "df = pd.read_csv('BostonHousing.csv')\n",
    "df"
   ]
  },
  {
   "cell_type": "code",
   "execution_count": null,
   "id": "0072aa1e",
   "metadata": {},
   "outputs": [],
   "source": [
    "#RM: rooms per dwelling\n",
    "#MEDV: value homes in $1000s"
   ]
  },
  {
   "cell_type": "code",
   "execution_count": null,
   "id": "f1f1f055",
   "metadata": {},
   "outputs": [],
   "source": [
    "y = df['MEDV'] \n",
    "x = df_boston['RM']"
   ]
  },
  {
   "cell_type": "code",
   "execution_count": null,
   "id": "60637197",
   "metadata": {},
   "outputs": [],
   "source": [
    "x = df['rm']\n",
    "y = df['medv']"
   ]
  },
  {
   "cell_type": "code",
   "execution_count": null,
   "id": "f0f0aa1e",
   "metadata": {},
   "outputs": [],
   "source": [
    "x"
   ]
  },
  {
   "cell_type": "code",
   "execution_count": null,
   "id": "b7736fd9",
   "metadata": {},
   "outputs": [],
   "source": [
    "x = sm.add_constant(df['rm'])\n",
    "model = sm.OLS(df['medv'], x).fit()"
   ]
  },
  {
   "cell_type": "code",
   "execution_count": null,
   "id": "fd8e6084",
   "metadata": {},
   "outputs": [],
   "source": [
    "model.summary()"
   ]
  },
  {
   "cell_type": "code",
   "execution_count": null,
   "id": "ee6c2ce5",
   "metadata": {},
   "outputs": [],
   "source": []
  },
  {
   "cell_type": "markdown",
   "id": "ecd3959b",
   "metadata": {},
   "source": [
    "The \"coef\" tag tells us that the y=mx+b is y = 9.1021 x + -34.6706"
   ]
  },
  {
   "cell_type": "code",
   "execution_count": null,
   "id": "5afc9602",
   "metadata": {},
   "outputs": [],
   "source": [
    "plot = px.scatter(df,x=\"rm\", y=\"medv\" )\n",
    "plot.show()"
   ]
  },
  {
   "cell_type": "code",
   "execution_count": null,
   "id": "8c278c62",
   "metadata": {},
   "outputs": [],
   "source": []
  },
  {
   "cell_type": "code",
   "execution_count": null,
   "id": "c3e22acb",
   "metadata": {},
   "outputs": [],
   "source": []
  },
  {
   "cell_type": "code",
   "execution_count": null,
   "id": "62c1dffc",
   "metadata": {},
   "outputs": [],
   "source": [
    "x = df['rm'] \n",
    "y = df['medv'] \n",
    "x_line = pd.Series([4,9])\n",
    "y_line2 = 9.1021*x_line+-34.6706\n",
    "fig1 = px.scatter(x=x, y=y)\n",
    "fig2 = px.line(x=x_line, y=y_line1, color_discrete_sequence=['red'])\n",
    "plot = go.Figure(data=fig1.data + fig2.data, layout = fig1.layout)\n",
    "plot.show()"
   ]
  },
  {
   "cell_type": "code",
   "execution_count": null,
   "id": "c0f35767",
   "metadata": {},
   "outputs": [],
   "source": []
  },
  {
   "cell_type": "markdown",
   "id": "39b27204",
   "metadata": {},
   "source": [
    "###  You try to find the relation between the following two!"
   ]
  },
  {
   "cell_type": "code",
   "execution_count": null,
   "id": "000633c6",
   "metadata": {},
   "outputs": [],
   "source": [
    "#per capita cheese consumption 2000-2009\n",
    "x = [29.9, 30.1, 30.5, 30.6, 31.3, 31.7, 32.6, 33.1, 32.8, 32.9]\n",
    "\n",
    "#number of deaths from being tangled in the sheets\n",
    "y = [320, 480, 520, 510, 605, 600, 680, 790, 820, 750]"
   ]
  },
  {
   "cell_type": "code",
   "execution_count": null,
   "id": "f58fda70",
   "metadata": {},
   "outputs": [],
   "source": []
  },
  {
   "cell_type": "code",
   "execution_count": null,
   "id": "b791e622",
   "metadata": {},
   "outputs": [],
   "source": [
    "# You fix this\n",
    "# x1 = sm.add_constant\n",
    "# model2 = sm.OLS(??????).fit()"
   ]
  },
  {
   "cell_type": "code",
   "execution_count": null,
   "id": "82c9e50e",
   "metadata": {},
   "outputs": [],
   "source": [
    "model2.summary()"
   ]
  },
  {
   "cell_type": "code",
   "execution_count": null,
   "id": "7d670609",
   "metadata": {},
   "outputs": [],
   "source": [
    "x_line = pd.Series([min(x),max(x)])\n",
    "y_line1 = 120.2644*x_line+-3186.8417\n",
    "fig1 = px.scatter(x=x, y=y)\n",
    "fig2 = px.line(x=x_line, y=y_line1, color_discrete_sequence=['red'])\n",
    "plot = go.Figure(data=fig1.data + fig2.data, layout = fig1.layout)\n",
    "plot.show()"
   ]
  },
  {
   "cell_type": "markdown",
   "id": "dd5d7902",
   "metadata": {},
   "source": [
    "This above example comes from \n",
    "\n",
    "https://tylervigen.com/spurious-correlations"
   ]
  },
  {
   "cell_type": "markdown",
   "id": "61c1231f",
   "metadata": {},
   "source": [
    "### How would you handle this one!!!\n",
    "\n",
    "We need to include a squred term"
   ]
  },
  {
   "cell_type": "code",
   "execution_count": null,
   "id": "8e47bb44",
   "metadata": {},
   "outputs": [],
   "source": [
    "n = 50\n",
    "np.random.seed(0)\n",
    "x = round(pd.Series(np.random.uniform(0,8,n)),1)\n",
    "y = round(x**2+-6*x + 2+np.random.normal(0,2.5,n),1)"
   ]
  },
  {
   "cell_type": "code",
   "execution_count": null,
   "id": "e99cc9ad",
   "metadata": {},
   "outputs": [],
   "source": [
    "list(zip(x,y))"
   ]
  },
  {
   "cell_type": "code",
   "execution_count": null,
   "id": "a33789bc",
   "metadata": {},
   "outputs": [],
   "source": [
    "plot = px.scatter(x=x, y=y)\n",
    "plot.show()"
   ]
  },
  {
   "cell_type": "code",
   "execution_count": null,
   "id": "d2d7d8f7",
   "metadata": {},
   "outputs": [],
   "source": [
    "x1 = sm.add_constant(x)\n",
    "x1"
   ]
  },
  {
   "cell_type": "code",
   "execution_count": null,
   "id": "64e8d819",
   "metadata": {},
   "outputs": [],
   "source": []
  },
  {
   "cell_type": "code",
   "execution_count": null,
   "id": "c0e92b11",
   "metadata": {},
   "outputs": [],
   "source": [
    "lm = sm.OLS(y,x1).fit() # fitting the model"
   ]
  },
  {
   "cell_type": "code",
   "execution_count": null,
   "id": "196ff89e",
   "metadata": {},
   "outputs": [],
   "source": [
    "lm.summary()  # you should be able to get the R-squared over 0.8"
   ]
  },
  {
   "cell_type": "code",
   "execution_count": null,
   "id": "a820fc95",
   "metadata": {},
   "outputs": [],
   "source": []
  }
 ],
 "metadata": {
  "kernelspec": {
   "display_name": "Python 3 (ipykernel)",
   "language": "python",
   "name": "python3"
  },
  "language_info": {
   "codemirror_mode": {
    "name": "ipython",
    "version": 3
   },
   "file_extension": ".py",
   "mimetype": "text/x-python",
   "name": "python",
   "nbconvert_exporter": "python",
   "pygments_lexer": "ipython3",
   "version": "3.10.6"
  }
 },
 "nbformat": 4,
 "nbformat_minor": 5
}
