{
 "cells": [
  {
   "cell_type": "code",
   "execution_count": null,
   "id": "8c15e92a",
   "metadata": {},
   "outputs": [],
   "source": [
    "import pandas as pd\n",
    "import numpy as np\n",
    "\n",
    "import plotly.express as px    \n",
    "import plotly.graph_objects as go\n",
    "import statsmodels.api as sm"
   ]
  },
  {
   "cell_type": "markdown",
   "id": "0012c7ac",
   "metadata": {},
   "source": [
    "### Intro to Python and Jupyter"
   ]
  },
  {
   "cell_type": "code",
   "execution_count": null,
   "id": "f8cad51d",
   "metadata": {},
   "outputs": [],
   "source": []
  },
  {
   "cell_type": "code",
   "execution_count": null,
   "id": "5642ba02",
   "metadata": {},
   "outputs": [],
   "source": []
  },
  {
   "cell_type": "code",
   "execution_count": null,
   "id": "3b64246d",
   "metadata": {},
   "outputs": [],
   "source": []
  },
  {
   "cell_type": "code",
   "execution_count": null,
   "id": "ceacbe13",
   "metadata": {},
   "outputs": [],
   "source": []
  },
  {
   "cell_type": "code",
   "execution_count": null,
   "id": "21f66858",
   "metadata": {},
   "outputs": [],
   "source": []
  },
  {
   "cell_type": "markdown",
   "id": "0c3ea94b",
   "metadata": {},
   "source": [
    "### What are we trying to do?"
   ]
  },
  {
   "cell_type": "code",
   "execution_count": null,
   "id": "cf5b16dd",
   "metadata": {},
   "outputs": [],
   "source": [
    "n = 50\n",
    "np.random.seed(0)\n",
    "x = round(pd.Series(np.random.uniform(0,10,n)),1)\n",
    "y = round(3*x+2+np.random.normal(0,2.5,n),1)"
   ]
  },
  {
   "cell_type": "code",
   "execution_count": null,
   "id": "b9a3ccbb",
   "metadata": {},
   "outputs": [],
   "source": [
    "plot = px.scatter(x=x, y=y)\n",
    "plot.show()"
   ]
  },
  {
   "cell_type": "code",
   "execution_count": null,
   "id": "e86a7e30",
   "metadata": {},
   "outputs": [],
   "source": [
    "x_line = pd.Series([0,10])\n",
    "y_line1 = 3*x_line+2\n",
    "y_line2 = 3.5*x_line+0\n",
    "fig1 = px.scatter(x=x, y=y)\n",
    "fig2 = px.line(x=x_line, y=y_line1, color_discrete_sequence=['red'])\n",
    "fig3 = px.line(x=x_line, y=y_line2,  color_discrete_sequence=['green'])\n",
    "plot = go.Figure(data=fig1.data + fig2.data+ fig3.data, layout = fig1.layout)\n",
    "plot.show()"
   ]
  },
  {
   "cell_type": "code",
   "execution_count": null,
   "id": "1da3794b",
   "metadata": {},
   "outputs": [],
   "source": []
  },
  {
   "cell_type": "markdown",
   "id": "0e17b5a4",
   "metadata": {},
   "source": [
    "#### Another Graph"
   ]
  },
  {
   "cell_type": "code",
   "execution_count": null,
   "id": "76bcfe14",
   "metadata": {},
   "outputs": [],
   "source": [
    "#Don't look at this block for now\n",
    "n = 50\n",
    "np.random.seed(0)\n",
    "x = round(pd.Series(np.random.uniform(0,8,n)),1)\n",
    "y = round(x**2+-6*x + 2+np.random.normal(0,2.5,n),1)"
   ]
  },
  {
   "cell_type": "code",
   "execution_count": null,
   "id": "d04f3433",
   "metadata": {},
   "outputs": [],
   "source": [
    "plot = px.scatter(x=x, y=y)\n",
    "plot.show()"
   ]
  },
  {
   "cell_type": "code",
   "execution_count": null,
   "id": "59803925",
   "metadata": {},
   "outputs": [],
   "source": [
    "\n"
   ]
  },
  {
   "cell_type": "markdown",
   "id": "8c95aee0",
   "metadata": {},
   "source": [
    "# Now to Regression"
   ]
  },
  {
   "cell_type": "code",
   "execution_count": null,
   "id": "a3b5cc87",
   "metadata": {},
   "outputs": [],
   "source": [
    "x = [2,2,2,3,1,1,2,3,4,1,4]\n",
    "y = [108, 102, 102, 98, 84, 95, 96, 99, 121, 93, 102]\n",
    "plot = px.scatter(x=x, y=y)\n",
    "plot.show()"
   ]
  },
  {
   "cell_type": "code",
   "execution_count": null,
   "id": "efa83b4a",
   "metadata": {},
   "outputs": [],
   "source": [
    "list(zip(x,y))"
   ]
  },
  {
   "cell_type": "code",
   "execution_count": null,
   "id": "bbd786ee",
   "metadata": {},
   "outputs": [],
   "source": []
  },
  {
   "cell_type": "code",
   "execution_count": null,
   "id": "b4791d0c",
   "metadata": {},
   "outputs": [],
   "source": []
  },
  {
   "cell_type": "code",
   "execution_count": null,
   "id": "13b77640",
   "metadata": {},
   "outputs": [],
   "source": []
  },
  {
   "cell_type": "code",
   "execution_count": null,
   "id": "81eea893",
   "metadata": {},
   "outputs": [],
   "source": [
    "x1 = sm.add_constant(x)\n",
    "x1"
   ]
  },
  {
   "cell_type": "code",
   "execution_count": null,
   "id": "e60f2897",
   "metadata": {},
   "outputs": [],
   "source": [
    "lm = sm.OLS(y,x1).fit() # fitting the model"
   ]
  },
  {
   "cell_type": "code",
   "execution_count": null,
   "id": "83032fbd",
   "metadata": {},
   "outputs": [],
   "source": [
    "lm.summary()"
   ]
  },
  {
   "cell_type": "markdown",
   "id": "c3bb5751",
   "metadata": {},
   "source": [
    "We have our observed points like (2,108) an d so one.  How close is our model?"
   ]
  },
  {
   "cell_type": "code",
   "execution_count": null,
   "id": "c8ae1c25",
   "metadata": {},
   "outputs": [],
   "source": [
    "# lm.predict( a list of x values in here  )"
   ]
  },
  {
   "cell_type": "code",
   "execution_count": null,
   "id": "e2caff6d",
   "metadata": {},
   "outputs": [],
   "source": []
  },
  {
   "cell_type": "code",
   "execution_count": null,
   "id": "813466a4",
   "metadata": {},
   "outputs": [],
   "source": [
    "lm.predict([2])"
   ]
  },
  {
   "cell_type": "code",
   "execution_count": null,
   "id": "e9e2587b",
   "metadata": {},
   "outputs": [],
   "source": [
    "#  Recal we had (2,108) and (2,96) and many other points\n",
    "lm.predict([(1,2)])"
   ]
  },
  {
   "cell_type": "code",
   "execution_count": null,
   "id": "b0017877",
   "metadata": {},
   "outputs": [],
   "source": []
  },
  {
   "cell_type": "code",
   "execution_count": null,
   "id": "9900fb1a",
   "metadata": {},
   "outputs": [],
   "source": []
  },
  {
   "cell_type": "code",
   "execution_count": null,
   "id": "b03459d6",
   "metadata": {},
   "outputs": [],
   "source": [
    "y_hat = lm.predict(x1)\n",
    "list(zip(y_hat,y))"
   ]
  },
  {
   "cell_type": "code",
   "execution_count": null,
   "id": "73cc7a3a",
   "metadata": {},
   "outputs": [],
   "source": []
  },
  {
   "cell_type": "code",
   "execution_count": null,
   "id": "d0fb4f2b",
   "metadata": {},
   "outputs": [],
   "source": []
  },
  {
   "cell_type": "code",
   "execution_count": null,
   "id": "5e65ddab",
   "metadata": {},
   "outputs": [],
   "source": [
    "fig1 = px.line(x=x, y=y_hat)\n",
    "fig1.update_traces(line=dict(color = 'rgba(50,50,50,1.2)'))\n",
    "\n",
    "fig2 = px.scatter(x=x, y=y)\n",
    "\n",
    "fig3 = go.Figure(data=fig1.data + fig2.data)\n",
    "fig3.show()"
   ]
  },
  {
   "cell_type": "markdown",
   "id": "c32a2cc0",
   "metadata": {},
   "source": [
    "### Another Example Boston Housing Data from 1970"
   ]
  },
  {
   "cell_type": "code",
   "execution_count": null,
   "id": "20aa7c51",
   "metadata": {},
   "outputs": [],
   "source": [
    "url = 'https://raw.githubusercontent.com/sanacoryf/23.04.19/main/BostonHousing.csv'\n",
    "df = pd.read_csv(url)\n",
    "df\n"
   ]
  },
  {
   "cell_type": "code",
   "execution_count": null,
   "id": "0072aa1e",
   "metadata": {},
   "outputs": [],
   "source": [
    "#RM: rooms per dwelling\n",
    "#MEDV: value homes in $1000s"
   ]
  },
  {
   "cell_type": "code",
   "execution_count": null,
   "id": "f1f1f055",
   "metadata": {},
   "outputs": [],
   "source": [
    "y = df['MEDV'] \n",
    "x = df_boston['RM']"
   ]
  },
  {
   "cell_type": "code",
   "execution_count": null,
   "id": "60637197",
   "metadata": {},
   "outputs": [],
   "source": [
    "x = df['rm']\n",
    "y = df['medv']"
   ]
  },
  {
   "cell_type": "code",
   "execution_count": null,
   "id": "f0f0aa1e",
   "metadata": {},
   "outputs": [],
   "source": [
    "x"
   ]
  },
  {
   "cell_type": "code",
   "execution_count": null,
   "id": "b7736fd9",
   "metadata": {},
   "outputs": [],
   "source": [
    "x = sm.add_constant(df['rm'])\n",
    "model = sm.OLS(df['medv'], x).fit()"
   ]
  },
  {
   "cell_type": "code",
   "execution_count": null,
   "id": "fd8e6084",
   "metadata": {},
   "outputs": [],
   "source": [
    "model.summary()"
   ]
  },
  {
   "cell_type": "code",
   "execution_count": null,
   "id": "98b8a5e9",
   "metadata": {},
   "outputs": [],
   "source": []
  },
  {
   "cell_type": "markdown",
   "id": "40355997",
   "metadata": {},
   "source": [
    "The \"coef\" tag tells us that the y=mx+b is y = 9.1021 x + -34.6706"
   ]
  },
  {
   "cell_type": "code",
   "execution_count": null,
   "id": "5afc9602",
   "metadata": {},
   "outputs": [],
   "source": [
    "plot = px.scatter(df,x=\"rm\", y=\"medv\" )\n",
    "plot.show()"
   ]
  },
  {
   "cell_type": "code",
   "execution_count": null,
   "id": "90feda2a",
   "metadata": {},
   "outputs": [],
   "source": []
  },
  {
   "cell_type": "code",
   "execution_count": null,
   "id": "9168481d",
   "metadata": {},
   "outputs": [],
   "source": []
  },
  {
   "cell_type": "code",
   "execution_count": null,
   "id": "62c1dffc",
   "metadata": {},
   "outputs": [],
   "source": [
    "x = df['rm'] \n",
    "y = df['medv'] \n",
    "x_line = pd.Series([4,9])\n",
    "y_line2 = 9.1021*x_line+-34.6706\n",
    "fig1 = px.scatter(x=x, y=y)\n",
    "fig2 = px.line(x=x_line, y=y_line1, color_discrete_sequence=['red'])\n",
    "plot = go.Figure(data=fig1.data + fig2.data, layout = fig1.layout)\n",
    "plot.show()"
   ]
  },
  {
   "cell_type": "code",
   "execution_count": null,
   "id": "c0f35767",
   "metadata": {},
   "outputs": [],
   "source": []
  },
  {
   "cell_type": "markdown",
   "id": "023ec5d8",
   "metadata": {},
   "source": [
    "###  You try to find the relation between the following two!"
   ]
  },
  {
   "cell_type": "code",
   "execution_count": null,
   "id": "000633c6",
   "metadata": {},
   "outputs": [],
   "source": [
    "#per capita cheese consumption 2000-2009\n",
    "x = [29.9, 30.1, 30.5, 30.6, 31.3, 31.7, 32.6, 33.1, 32.8, 32.9]\n",
    "\n",
    "#number of deaths from being tangled in the sheets\n",
    "y = [320, 480, 520, 510, 605, 600, 680, 790, 820, 750]"
   ]
  },
  {
   "cell_type": "code",
   "execution_count": null,
   "id": "f58fda70",
   "metadata": {},
   "outputs": [],
   "source": []
  },
  {
   "cell_type": "code",
   "execution_count": null,
   "id": "b791e622",
   "metadata": {},
   "outputs": [],
   "source": [
    "# You fix this\n",
    "# x1 = sm.add_constant\n",
    "# model2 = sm.OLS(??????).fit()"
   ]
  },
  {
   "cell_type": "code",
   "execution_count": null,
   "id": "cf3624fa",
   "metadata": {},
   "outputs": [],
   "source": [
    "model2.summary()"
   ]
  },
  {
   "cell_type": "code",
   "execution_count": null,
   "id": "d98899b2",
   "metadata": {},
   "outputs": [],
   "source": [
    "x_line = pd.Series([min(x),max(x)])\n",
    "y_line1 = 120.2644*x_line+-3186.8417\n",
    "fig1 = px.scatter(x=x, y=y)\n",
    "fig2 = px.line(x=x_line, y=y_line1, color_discrete_sequence=['red'])\n",
    "plot = go.Figure(data=fig1.data + fig2.data, layout = fig1.layout)\n",
    "plot.show()"
   ]
  },
  {
   "cell_type": "markdown",
   "id": "19f53c77",
   "metadata": {},
   "source": [
    "This above example comes from \n",
    "\n",
    "https://tylervigen.com/spurious-correlations"
   ]
  },
  {
   "cell_type": "markdown",
   "id": "e67b4d6d",
   "metadata": {},
   "source": [
    "### How would you handle this one!!!\n",
    "\n",
    "We need to include a squred term"
   ]
  },
  {
   "cell_type": "code",
   "execution_count": null,
   "id": "cf4e4e47",
   "metadata": {},
   "outputs": [],
   "source": [
    "n = 50\n",
    "np.random.seed(0)\n",
    "x = round(pd.Series(np.random.uniform(0,8,n)),1)\n",
    "y = round(x**2+-6*x + 2+np.random.normal(0,2.5,n),1)"
   ]
  },
  {
   "cell_type": "code",
   "execution_count": null,
   "id": "591ba819",
   "metadata": {},
   "outputs": [],
   "source": [
    "list(zip(x,y))"
   ]
  },
  {
   "cell_type": "code",
   "execution_count": null,
   "id": "d98452fb",
   "metadata": {},
   "outputs": [],
   "source": [
    "plot = px.scatter(x=x, y=y)\n",
    "plot.show()"
   ]
  },
  {
   "cell_type": "code",
   "execution_count": null,
   "id": "9cd68b4b",
   "metadata": {},
   "outputs": [],
   "source": [
    "x1 = sm.add_constant(x)\n",
    "x1"
   ]
  },
  {
   "cell_type": "code",
   "execution_count": null,
   "id": "e795cef9",
   "metadata": {},
   "outputs": [],
   "source": []
  },
  {
   "cell_type": "code",
   "execution_count": null,
   "id": "2bb0dfcc",
   "metadata": {},
   "outputs": [],
   "source": [
    "lm = sm.OLS(y,x1).fit() # fitting the model"
   ]
  },
  {
   "cell_type": "code",
   "execution_count": null,
   "id": "63874f21",
   "metadata": {},
   "outputs": [],
   "source": [
    "lm.summary()  # you should be able to get the R-squared over 0.8"
   ]
  },
  {
   "cell_type": "code",
   "execution_count": null,
   "id": "1f7c7c54",
   "metadata": {},
   "outputs": [],
   "source": []
  }
 ],
 "metadata": {
  "kernelspec": {
   "display_name": "Python 3 (ipykernel)",
   "language": "python",
   "name": "python3"
  },
  "language_info": {
   "codemirror_mode": {
    "name": "ipython",
    "version": 3
   },
   "file_extension": ".py",
   "mimetype": "text/x-python",
   "name": "python",
   "nbconvert_exporter": "python",
   "pygments_lexer": "ipython3",
   "version": "3.10.6"
  }
 },
 "nbformat": 4,
 "nbformat_minor": 5
}
